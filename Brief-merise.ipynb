{
 "cells": [
  {
   "cell_type": "markdown",
   "metadata": {},
   "source": [
    "# BRIEF MERISE"
   ]
  },
  {
   "cell_type": "markdown",
   "metadata": {},
   "source": [
    "## Introduction\n",
    "\n",
    "Voici plusieurs projets de conception de BDD relationnelle et le Client MoinsFlou vous demande des propositions de conceptions de BDD en architecture MCD.\n"
   ]
  },
  {
   "cell_type": "markdown",
   "metadata": {},
   "source": [
    "# 1. Les Misérables\n",
    "\n",
    "Lire le texte suivant extrait des Misérables de Victor Hugo (référence 3) et répondez aux questions suivantes. Toute la méthode n'est pas passée en revue, mais grâce au texte, il est possible de définir certaines étapes : fonctions couvertes, partenaires, organigramme et modèle de données.  "
   ]
  },
  {
   "cell_type": "markdown",
   "metadata": {},
   "source": [
    "Nous croyons qu'il avait simplement étudié‚ en Hollande pour être aubergiste. Ce gredin de l'ordre composite était, selon les probabilités, quelque Flamand de Lille en Flandre, Français à Paris, Belge à Bruxelles, commodément à cheval sur deux frontières. Sa prouesse à Waterloo, on la connaît. Comme on voit il l'exagérait un\n",
    "peu. Le flux et le reflux, le méandre, l'aventure, était l'élément de son existence ; conscience déchirée entraîne vie décousue ; et vraisemblablement, à l'orageuse époque du 18 juin 1815. Thénardier appartenait à cette variété de cantiniers maraudeurs dont nous avons parlé, battant l'estrade, vendant à ceux-ci, volant ceux-là, et roulant en famille homme, femme et enfants, dans quelque carriole boiteuse, à la suite des troupes en marche, avec l'instinct de se rattacher toujours à l'armée victorieuse. Cette campagne faite, ayant, comme il disait, \"du quibus\", il était venu ouvrir gargote à Montfermeil.\n",
    "(...) Tout nouveau venu qui entrait dans la gargote disait en voyant la Thénardier : Voilà le maître de la maison. Erreur. Elle n'était même pas la maîtresse. Le maître et la maîtresse, c'était le mari. Elle faisait, il créait. Il dirigeait tout par une sorte d'action magnétique‚ invisible et continuelle. Un mot lui suffisait, quelquefois un signe ; le mastodonte obéissait. Le Thénardier était pour la Thénardier, sans qu'elle s'en rendit trop compte, une espèce d'être particulier et souverain. Elle avait les vertus de sa façon d'être; jamais eût-elle été en dissentiment sur un détail avec monsieur Thénardier, hypothèse du reste inadmissible, elle n'eût donné‚\n",
    "publiquement tort à son mari, sur quoi que ce soit. Jamais elle n'eût commis \"devant des étrangers\", cette faute que font si souvent les femmes, et qu'on appelle, en langage parlementaire : découvrir la couronne. Quoique leur accord n'eût pour résultat que le mal, il y avait de la contemplation dans la soumission de la Thénardier\n",
    "à son mari. Cette montagne de bruit et de chair se mouvait sous le petit doigt de ce despote frêle. C'était, vu par son côté‚ nain et grotesque, cette grande chose universelle : l'adoration de la matière pour l'esprit ; car de certaines laideurs ont leur raison d'être dans les profondeurs mêmes de la beauté éternelle. Il y avait de\n",
    "l'inconnu dans Thénardier; de là l'empire absolu de cet homme sur cette femme. A de certains moments elle le voyait comme une chandelle allumée ; dans d'autres, elle le sentait comme une griffe.\n",
    "Cette femme était une créature formidable qui n'aimait que ses enfants et ne craignait que son mari. Elle était mère parce qu'elle était mammifère. Du reste sa maternité s'arrêtait à ses filles, et, comme on le verra, ne s'étendait pas jusqu'aux garçons. Lui, l'homme, n'avait qu'une pensée‚ s'enrichir.\n",
    "Il n'y réussissait point. Un digne théâtre‚ manquait à ce grand talent. Thénardier‚ à Montfermeil se ruinait, si la ruine est possible à zéro ; en Suisse ou dans les Pyrénées‚ ce sans-le-sou serait devenu millionnaire. Mais où le sort attache l'aubergiste, il faut qu'il broute.\n",
    "On comprend que le mot aubergiste est employé‚ ici dans un sens restreint, et qui ne s'étend pas à une classe entière.\n",
    "En cette même année 1823, Thénardier était endetté d'environ quinze cents francs de dettes criardes, ce qui le rendait soucieux.\n",
    "(...)Ses théories d'aubergiste jaillissaient quelquefois de lui par éclairs. Il avait des aphorismes professionnels qu'il insérait dans l'esprit de sa femme. \"Le devoir de l'aubergiste, lui disait-il un jour violemment et à voix basse, c'est de vendre au premier venu du fricot, du repos de la lumière, du feu, des draps sales, de la bonne, des pouces, du sourire; d'arrêter les passants, de vider les petites bourses et d'alléger\n",
    "honnêtement les grosses, d'abriter avec respect les familles en route, de râper l'homme, de plumer la femme, d'éplucher‚ l'enfant ; de coter la fenêtre ouverte, la fenêtre fermée, le coin de la cheminée, le fauteuil, la chaise, le tabouret, l'escabeau, le lit de plume, le matelas et la botte de paille- de savoir de combien l'ombre use le miroir et de tarifer cela, et, par les cinq cent mille diables, de faire tout payer au voyageur, jusqu'aux mouches que son chien mange !\n",
    "Cet homme et cette femme, c'était ruse et rage mariées ensemble, attelage hideux et terrible.\n",
    "Pendant que le mari ruminait et combinait, la Thénardier, elle, ne pensait pas aux créanciers‚ absents, n'avait souci d'hier ni de demain, et vivait avec emportement toute dans la minute.\n",
    "Tels étaient ces deux êtres. Cosette était entre eux, subissant leur double pression, comme une créature‚ qui serait à la fois broyée par une meule et déchiquetée par une tenaille. L'homme et la femme avalent chacun une manière différente ; Cosette était rouée de coups, cela venait de la femme ; elle allait pieds nus l'hiver, cela venait du mari.\n",
    "\n",
    "Cosette montait, descendait, lavait, brossait, frottait, balayait, courait, trimait, haletait, remuait des choses lourdes, et, toute chétive, faisait les grosses besognes.\n",
    "Nulle pitié : une maîtresse farouche, un maître venimeux. La gargote Thénardier‚ était comme une toile où Cosette était prise et tremblait. L'idéal de l'oppression était réalisé par cette domesticité sinistre. C'était quelque chose comme la mouche servante des araignées.\n",
    "La pauvre enfant, passive, se taisait.\n",
    "Quand elles se trouvent ainsi, dès l'aube, toutes petites, toutes nues, parmi les hommes, que se passe-t-il dans ces âmes qui viennent de quitter Dieu ?"
   ]
  },
  {
   "cell_type": "markdown",
   "metadata": {},
   "source": [
    "# Questions"
   ]
  },
  {
   "cell_type": "markdown",
   "metadata": {},
   "source": [
    "### Q01: Quel est le nom de l'entreprise concernée ? "
   ]
  },
  {
   "cell_type": "markdown",
   "metadata": {},
   "source": [
    "**Auberge Thénardier**"
   ]
  },
  {
   "cell_type": "markdown",
   "metadata": {},
   "source": [
    "### Q02: Quelles sont les activités de cette entreprise ? Regrouper ces activités en domaines."
   ]
  },
  {
   "cell_type": "markdown",
   "metadata": {},
   "source": [
    "**Les activités de cette entreprise sont:**\n",
    "- Hôtellerie\n",
    "- Restauration"
   ]
  },
  {
   "cell_type": "markdown",
   "metadata": {},
   "source": [
    "### Q03: Quels sont les partenaires de l'entreprise ?"
   ]
  },
  {
   "cell_type": "markdown",
   "metadata": {},
   "source": [
    "**Les partenaires de l'entreprise sont:**\n",
    "- Thénardier\n",
    "- La femme de Thénardier\n",
    "- Cosette"
   ]
  },
  {
   "cell_type": "markdown",
   "metadata": {},
   "source": [
    "### Q04: Quel est l'organigramme (la structure des postes de travail de l'entreprise) et les opérations organisées de chaque poste de travail ?"
   ]
  },
  {
   "cell_type": "markdown",
   "metadata": {},
   "source": [
    "**L'organigramme et opérations organisées de chaque poste de travail:**\n",
    "- Thénardier est le patron, il établit une gestion de l'argent et des dettes et également des stratégies.\n",
    "- Sa femme travaille très certainement à la cuisine, elle intimide la clientèle et frappe Cosette.\n",
    "- Cosette fait toute la grosse besogne."
   ]
  },
  {
   "cell_type": "markdown",
   "metadata": {},
   "source": [
    "### Q05: Dessiner un MCD des tarifs de l'entreprise (chambre, souper...)."
   ]
  },
  {
   "cell_type": "markdown",
   "metadata": {},
   "source": [
    "**Aucun grand intérêt de dessiner un MCD des tarifs de l'entreprise ici, n'ayant aucune valeur concrète concernant les services ou produits proposés par l'entreprise et aucune liste concrète de ceci.\n",
    "Le tarif est décidé arbitrairement au moment de payer par Thénardier en fonction de l'argent dont dispose le client, pour lui en soutirer un maximum.**"
   ]
  },
  {
   "cell_type": "markdown",
   "metadata": {},
   "source": [
    "### Q06: Citer un message organisé."
   ]
  },
  {
   "cell_type": "markdown",
   "metadata": {},
   "source": [
    "**\"Ses théories d'aubergiste jaillissaient quelquefois de lui par éclairs. Il avait des aphorismes professionnels qu'il insérait dans l'esprit de sa femme. \"Le devoir de l'aubergiste, lui disait-il un jour violemment et à voix basse, c'est de vendre au premier venu du fricot, du repos de la lumière, du feu, des draps sales, de la bonne, des pouces, du sourire; d'arrêter les passants, de vider les petites bourses et d'alléger\n",
    "honnêtement les grosses, d'abriter avec respect les familles en route, de râper l'homme, de plumer la femme, d'éplucher‚ l'enfant ; de coter la fenêtre ouverte, la fenêtre fermée, le coin de la cheminée, le fauteuil, la chaise, le tabouret, l'escabeau, le lit de plume, le matelas et la botte de paille- de savoir de combien l'ombre use le miroir et de tarifer cela, et, par les cinq cent mille diables, de faire tout payer au voyageur, jusqu'aux mouches que son chien mange !\"**"
   ]
  },
  {
   "cell_type": "markdown",
   "metadata": {},
   "source": [
    "### Q07: Informatiseriez-vous cette entreprise ?"
   ]
  },
  {
   "cell_type": "markdown",
   "metadata": {},
   "source": [
    "**Non car très peu de valeurs me reviennent en lisant ce texte, j'ai besoin de \"matière\" pour en faire quelque chose de concret et \"parlant\".\n",
    "Cette entreprise n'a pour moi pas le besoin d'être informatisée.**"
   ]
  },
  {
   "cell_type": "markdown",
   "metadata": {},
   "source": [
    "---\n",
    "\n",
    "# 2. TAXE D'APPRENTISSAGE\n",
    "\n",
    "La taxe professionnelle doit être payée par les entreprises qui ne sont pas des établissements d'enseignement. Elle est proportionnelle aux salaires versés dans l'entreprise. Elle est versée à un fonds national ou à un centre de formation interne ou externe à l'entreprise ou à des écoles d'enseignement technologique et\n",
    "professionnel. Dans ces derniers cas, les entreprises doivent remplir une \"demande d'exonération\" à \"rédiger sur un imprimé d'un modèle agréé\".\n",
    "\n",
    "Dans cet exercice, nous nous plaçons du côté de l'école d'enseignement Porteur.\n",
    "\n",
    "Cette école perçoit l'argent de l'État et prospecte les entreprises pour obtenir directement le montant de la taxe d'apprentissage. Les fonctions couvertes sont de rechercher et d'encaisser la taxe d'apprentissage.\n",
    "Les entreprises peuvent verser leur don sous forme d'argent ou en nature.\n",
    "Le prospecteur de l'école Porteur s'adresse à différentes sociétés pour percevoir la taxe d'apprentissage. Après accord, si le paiement n'intervient pas, le trésorier relance les personnes ayant accepté le paiement et envoie des réponses appropriées aux sociétés et aux montants versés. Une forte somme entraîne une récompense de\n",
    "dix pages et une petite somme un remerciement sur le dos de l'enveloppe. Le délai de relance dépend de l'entreprise ayant accepté le stage. Le trésorier encaisse les dons.\n",
    "L'école vous demande, comme exercice, d'imaginer une solution informatique à ce besoin. Comme cela, elle pourra profiter de votre travail.\n",
    "\n",
    "Nous considérons qu'il y a :\n",
    "5 000 entreprises prospectées, 1 personne en moyenne connue par entreprise.\n",
    "Une sur dix répond positivement. La moitié des entreprises ayant accepté de payer la taxe sont relancées et toutes les réponses positives entraînent un versement.\n",
    "Dix niveaux d'échelle de taxe sont définis. Une réponse de 5 types différents est éditée à chaque versement. Les versements sont mémorisés sur 5 ans."
   ]
  },
  {
   "cell_type": "markdown",
   "metadata": {},
   "source": [
    "## Questions"
   ]
  },
  {
   "cell_type": "markdown",
   "metadata": {},
   "source": [
    "Q01: le MCC ?\n",
    "\n",
    "1.1 fonctions et domaines ?\n",
    "\n",
    "1.2 partenaires ?\n",
    "\n",
    "1.3 messages et informations ?"
   ]
  },
  {
   "cell_type": "code",
   "execution_count": null,
   "metadata": {},
   "outputs": [],
   "source": []
  },
  {
   "cell_type": "markdown",
   "metadata": {},
   "source": [
    "Q02: le MCT et ses opérations conceptuelles ?"
   ]
  },
  {
   "cell_type": "code",
   "execution_count": null,
   "metadata": {},
   "outputs": [],
   "source": []
  },
  {
   "cell_type": "markdown",
   "metadata": {},
   "source": [
    "Q03: le MCD, individus, relations, informations et pattes ?"
   ]
  },
  {
   "cell_type": "code",
   "execution_count": null,
   "metadata": {},
   "outputs": [],
   "source": []
  },
  {
   "cell_type": "markdown",
   "metadata": {},
   "source": [
    "Q04: le MOT, postes de travail et procédures ?"
   ]
  },
  {
   "cell_type": "code",
   "execution_count": null,
   "metadata": {},
   "outputs": [],
   "source": []
  },
  {
   "cell_type": "markdown",
   "metadata": {},
   "source": [
    "---\n",
    "\n",
    "# 3. STAGES\n",
    "\n",
    "Il s'agit de traiter complètement le besoin de M. Plume de l'établissement Sainte-Hildegarde. Un domaine a été identifié comme étant de trouver des stages en entreprise pour placer les élèves.\n",
    "M. Plume contacte les personnes susceptibles de lui fournir un stage. Après réception d'une proposition, il détermine quelles matières peuvent convenir à ce stage. Les élèves seront ensuite choisis en fonction de leur option et du poids de la matière dans leur option. Un stage à Kourou sur la fusée Ariane sera proposé à un\n",
    "élève de l'option mathématiques, aéronautique ou informatique mais pas à un élève de l'option polyglotte. Une option comporte plusieurs matières (mécanique quantique, statistiques, anglais, langages d'exploitation) et le stage est classé en fonction des matières possibles et d'autres critères (rémunération, lieu, durée...).\n",
    "Après affectation du stage, une déclaration de stage est envoyée à la Sécurité Sociale pour que l'entreprise puisse ne pas payer de charges, et une convention de stage à l'entreprise, qui précise à l'entreprise quel professeur suit l'élève.\n",
    "M. Plume est aidé par sa collaboratrice et des \"tuteurs\" qui jugent le travail de l'élève en fin de stage et appartenant à l'entreprise.\n",
    "\n",
    "Voir Schéma Stage joint en ressource.\n",
    "\n",
    "Nous considérons qu'il y a :\n",
    "Le même nombre d'entreprises que précédemment, soit 5 000, 600 propositions annuelles pour 500 élèves susceptibles d'effectuer un stage (le rêve), 200 matières, 50 options, une option comportant 10 matières en moyenne et 5 critères de stage.\n",
    "\n",
    "Les données seront mémorisées sur 5 ans. "
   ]
  },
  {
   "cell_type": "markdown",
   "metadata": {},
   "source": [
    "## Questions"
   ]
  },
  {
   "cell_type": "markdown",
   "metadata": {},
   "source": [
    "Q01: le MCC ?\n",
    "\n",
    "1.1 Fonctions et domaines ?\n",
    "\n",
    "1.2 Partenaires ?\n",
    "\n",
    "1.3 Messages et informations ?"
   ]
  },
  {
   "cell_type": "code",
   "execution_count": null,
   "metadata": {},
   "outputs": [],
   "source": []
  },
  {
   "cell_type": "markdown",
   "metadata": {},
   "source": [
    "Q02: le MCT ?"
   ]
  },
  {
   "cell_type": "code",
   "execution_count": null,
   "metadata": {},
   "outputs": [],
   "source": []
  },
  {
   "cell_type": "markdown",
   "metadata": {},
   "source": [
    "Q03: le MCD ?"
   ]
  },
  {
   "cell_type": "code",
   "execution_count": null,
   "metadata": {},
   "outputs": [],
   "source": []
  },
  {
   "cell_type": "markdown",
   "metadata": {},
   "source": [
    "Q04: le MOT ?"
   ]
  },
  {
   "cell_type": "markdown",
   "metadata": {},
   "source": [
    "---\n",
    "\n",
    "# 4. FORMER\n",
    "\n",
    "Il s'agit de traiter complètement le besoin du responsable des études M.Deuxplumes de l'établissement Sainte-Hildegarde.\n",
    "\n",
    "\n",
    "\n",
    "Un domaine a été identifié comme étant de former les élèves.\n",
    "\n",
    "Construire le MCD, MCT, le MOT.\n",
    "\n",
    "Nous considérons qu'il y a :\n",
    "4 promotions annuelles de 500 élèves, 200 matières et 50 options, toutes promotions confondues, et 2 enseignements par matière. Une option compte 10 matières en moyenne.\n",
    "\n",
    "Nous considérons 50 salles de cours et 20 professeurs. Un enseignement porte sur 1 matière, comprend 10 cours, 2 examens et 20 élèves en moyenne."
   ]
  },
  {
   "cell_type": "code",
   "execution_count": null,
   "metadata": {},
   "outputs": [],
   "source": []
  },
  {
   "cell_type": "markdown",
   "metadata": {},
   "source": [
    "---\n",
    "\n",
    "# 5. SÉLECTIONNER\n",
    "\n",
    "Il s'agit de traiter complètement le besoin du responsable des études, M.Deuxplumes de l'établissement Sainte-Hildegarde.\n",
    "\n",
    "Construire le MCD, MCT, le MOT.\n",
    "\n",
    "Nous considérons qu'il y a :\n",
    "500 élèves par an, un taux de réussite de 20% à l'entrée.\n",
    "\n",
    "Nous ne considérons que la sélection de 1ère année. 10 % des élèves présentent leur candidature deux fois.\n",
    "\n",
    "Chaque candidat a 1,5 diplôme en moyenne.\n",
    "\n",
    "Un élève se présente dans une option parmi 10 et passe 10 examens (un examen par matière) notés par 3 professeurs différents parmi 20. Au total, il existe 10 options à l'entrée et 20 matières. "
   ]
  },
  {
   "cell_type": "code",
   "execution_count": null,
   "metadata": {},
   "outputs": [],
   "source": []
  },
  {
   "cell_type": "markdown",
   "metadata": {},
   "source": [
    "---\n",
    "\n",
    "# 6. CABINET ANIMAL\n",
    "\n",
    "\n",
    "Les deux brillantes diététiciennes pour animaux, Corinne et Marine, ont décidé de s'installer à leur compte. Pour cela, elles définissent des régimes à suivre à toute catégorie ou type d'animaux, tortues de mer, de terre, lapin nain, chat...\n",
    "Elles se sont aperçues que le plus difficile est de planifier les visites des animaux et leur périodicité. Les poissons ont vite tendance à grossir comme des diodons, alors que les gris du Gabon peuvent se laisser dépérir si personne ne leur porte attention.\n",
    "\n",
    "Quand un nouvel animal fait appel à leurs services, leur secrétaire donne un rendez-vous en fonction du type d'animal (poisson, éléphant, dahut...). Ensuite, la périodicité est définie en fonction du régime donné, s'il nécessite un suivi serré ou non.\n",
    "\n",
    "Après la prise de mesures (taille, poids, vue, tension) imposées par la MAT, la médecine animalière du travail, et d'autres au choix, elles déterminent le régime à suivre.\n",
    "\n",
    "Un régime est défini par la quantité d'aliments à ingérer :\n",
    "100 g de carottes par jour maximum, un minimum de 3 oeufs pour arriver à 1 000 kCal maximum, avec 300 de protéines, 400 de lipides et 300 de glucides. Elles ne prennent pas en compte les corrélations entre aliments.\n",
    "Les hypothèses de volumes sont : un animal vient tous les 15 jours pendant les 6 premiers mois, ensuite une fois tous les 6 mois pendant 2 ans et 1 fois par an pendant 3 ans. Vingt cinq visites sont effectuées par jour et 10 mesures sont effectuées au maximum. Les régimes sont \"lourds\" au départ et changent une fois les 6 premiers\n",
    "mois, et ensuite deviennent \"légers\" et restent les mêmes. Ils concernent 15 aliments au total.\n",
    "\n",
    "Considérez un temps de stockage de 5 ans et construisez MCC, MCT, MCD, MOT."
   ]
  },
  {
   "cell_type": "code",
   "execution_count": null,
   "metadata": {},
   "outputs": [],
   "source": []
  },
  {
   "cell_type": "markdown",
   "metadata": {},
   "source": [
    "---\n",
    "\n",
    "# 7. LOCATION D'APPARTEMENT\n",
    "\n",
    "Alain voulait investir dans la restauration ou dans l'immobilier. Il a choisi l'immobilier, alors le cas suivant sera sur l'immobilier.\n",
    "\n",
    "Les propriétaires, voulant profiter de leur investissement locatif, s'adressent à l'agence Alain. Ils décrivent le montant du loyer qu'ils veulent percevoir en envoyant une description du logement.\n",
    "\n",
    "L'agence passe alors une annonce dans des journaux locaux gratuits. Quand une personne est intéressée par une location, elle doit fournir un justificatif de salaire et un garant. Le loyer est fixé en fonction des charges, de l'indice du coût de la construction. Après visite et accord, le bail est signé et le locataire doit verser le\n",
    "loyer à l'agence qui reverse une partie au propriétaire.\n",
    "Toutes les années, le nouveau loyer est calculé en fonction de la variation de l'indice.\n",
    "Si le locataire veut prendre son congé, il le déclare à l'agence trois mois avant.\n",
    "Celle-ci peut alors refaire paraître une annonce. Un état des lieux est effectué à l'entrée et à la sortie de chaque location. Le propriétaire peut aussi demander à récupérer son logement à l'agence, qui reformulera la demande au locataire.\n",
    "\n",
    "Nous supposons 30 transactions par semaine, un indice tous les 3 mois. En moyenne, un locataire reste pendant plus de 3 ans. 20 villes sont considérées.\n",
    "\n",
    "Construire le MCC, le MCD, le MCT, le MOT"
   ]
  },
  {
   "cell_type": "code",
   "execution_count": null,
   "metadata": {},
   "outputs": [],
   "source": []
  },
  {
   "cell_type": "markdown",
   "metadata": {},
   "source": [
    "---\n",
    "\n",
    "# 8.Gestion familiale d'un ménage\n",
    "\n",
    "\n",
    "La famille Cerise a décidé de suivre ses dépenses pour ne plus être dépassée. Depuis un\n",
    "an, le compte commun est constamment dans le rouge.\n",
    "Elle possède 3 sources de revenu, les salaires mensuels de leurs employeurs, les dons obtenus des amis ou des parents et les emprunts effectués à la banque.\n",
    "\n",
    "Les dépenses sont de 3 catégories : l'argent de poche distribué chichement aux enfants, les\n",
    "remboursements d'emprunt et les autres dépenses servant à acheter \"on se demande bien quoi\".\n",
    "\n",
    "Mais, de nos jours, l'argent brûle les doigts et saute par la fenêtre.\n",
    "\n",
    "Les dons ne servent pas à rembourser les emprunts et les emprunts ne payent pas l'argent de poche. Ces deux règles peuvent être amenées à être modifiées.\n",
    "\n",
    "A partir de ces données, construire le MCC, les messages et leurs informations, le MCT et le MCD. Puis, réfléchissez intensément sur le MCD pour le réduire et regrouper des concepts en utilisant les notions de recette et de dépense. Le MCD final ne devrait contenir que 5 individus au maximum. \n",
    "\n",
    "Aucun volume ne sera calculé. "
   ]
  },
  {
   "cell_type": "code",
   "execution_count": null,
   "metadata": {},
   "outputs": [],
   "source": []
  },
  {
   "cell_type": "markdown",
   "metadata": {},
   "source": [
    "---\n",
    "\n",
    "# 9.Cabinet médical\n",
    "\n",
    "\n",
    "Le docteur Knock a décidé d'ouvrir un cabinet médical.\n",
    "Comme d'habitude, il demande toujours les symptômes aux patients \"cela vous gratouille ou vous chatouille ?\" pour leur prescrire une ordonnance. Lors de sa consultation, il peut effectuer différents actes (consultation simple, point de suture, infiltration, sclérose...)\n",
    "\n",
    "Seulement, maintenant, il faut tout noter. La pharmacie du coin peut téléphoner pour demander la vérification d'une prescription et la Direction départementale de l'aide sanitaire et sociale surveille les maladies à déclarer (méningite dans une école par exemple). Une déclaration doit lui être envoyée obligatoirement, en moyenne\n",
    "une par an.\n",
    "Le docteur Knock hésite à s'informatiser, aidez-le.\n",
    "Il reçoit un malade toutes les demi-heures et travaille 10 heures par jour, 200 jours par an. Un malade vient tous les 6 mois, reste 5 ans en moyenne et présente 2 symptômes en moyenne. Une prescription contient 2,5 remèdes en moyenne. Une ordonnance est délivrée une consultation sur deux. Un acte est exécuté par\n",
    "consultation. Une consultation diagnostique 1 maladie en moyenne.\n",
    "Supposons qu'il existe 1 000 médecins, 1 000 maladies, 500 symptômes, 3 symptômes par consultation, 10 000 remèdes.\n",
    "Une partie du MCD a déjà été effectuée. Nous ne considérerons que la prescription et non les résultats d'examen, vus en partie lors du cas du cabinet animal.\n",
    "\n",
    "Construire le MCC, le MCD, le MCT, le MOT."
   ]
  },
  {
   "cell_type": "code",
   "execution_count": null,
   "metadata": {},
   "outputs": [],
   "source": []
  },
  {
   "cell_type": "markdown",
   "metadata": {},
   "source": [
    "---\n",
    "\n",
    "# 10. Cabinet photo\n",
    "\n",
    "Francis est, comme chacun sait, un excellent photographe. Il photographie pour lui-même quand il est en voyage et dépose alors ses diapositives dans une agence ou sur commande, quand un client (éditeur, journal...) lui demande un reportage.\n",
    "\n",
    "Dans le premier cas, l'agence lui envoie, quand une photographie est vendue, le montant et les conditions de la vente (support, magazine...). Dans le deuxième cas, il envoie tout son reportage à son client, qui lui retourne les diapositives en précisant celles qui ont été retenues. Les conditions de la vente précisent le contexte\n",
    "juridique : y a-t-il un délai d'exclusivité, de quelle durée est-il ?\n",
    "\n",
    "Il a besoin de savoir où sont ses diapositives et leur contenu. Après de longues discussions, il a décidé de retenir trois critères principaux :\n",
    "\n",
    "-le lieu de la photo : Paris, Assouan, Montréal, Québec, Immeuble Le Corbusier ;\n",
    "\n",
    "-le thème : personnage, paysage, fête religieuse, compétition sportive ;\n",
    "\n",
    "-le sujet : Kermit, Château de la Loire, Noël 1991.\n",
    "\n",
    "\n",
    "Un sujet fait partie d'un seul thème. Les autres critères demanderaient trop de temps à être saisis.\n",
    "\n",
    "On considère 1 film de 36 poses par jour. 20 diapositives par film sont conservées et 2 sont vendues. Francis effectue un reportage par mois commandé par 20 clients au total. Il n'a pas de jour de repos car, pour lui, la photo est une passion où il peut exploiter toute sa sensibilité.\n",
    "\n",
    "Il désire savoir quelle est la marque du film acheté (Clicclac, Yama, Kanico...) afin de mémoriser le ton des couleurs en fonction de la marque.\n",
    "\n",
    "150 thèmes sont considérés, 10 laboratoires, 10 marques et 200 lieux.\n",
    "\n",
    "Il n'a pas d'intérêt à mémoriser l'optique et les différents dépôts d'une photo dans une agence, ni le fournisseur du film.\n",
    "\n",
    "Construire le MCC, le MCD, le MCT, le MOT"
   ]
  },
  {
   "cell_type": "code",
   "execution_count": null,
   "metadata": {},
   "outputs": [],
   "source": []
  }
 ],
 "metadata": {
  "kernelspec": {
   "display_name": "Python 3",
   "language": "python",
   "name": "python3"
  },
  "language_info": {
   "codemirror_mode": {
    "name": "ipython",
    "version": 3
   },
   "file_extension": ".py",
   "mimetype": "text/x-python",
   "name": "python",
   "nbconvert_exporter": "python",
   "pygments_lexer": "ipython3",
   "version": "3.9.1"
  }
 },
 "nbformat": 4,
 "nbformat_minor": 4
}
